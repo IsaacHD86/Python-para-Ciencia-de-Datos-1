{
 "cells": [
  {
   "cell_type": "markdown",
   "id": "124e1e82",
   "metadata": {},
   "source": [
    "# Practica"
   ]
  },
  {
   "cell_type": "code",
   "execution_count": null,
   "id": "d0a33776",
   "metadata": {},
   "outputs": [],
   "source": [
    "#Desarrolle un programa en Python donde dado un texto proporcionado por el usuario se encargue de imprimir el número de veces que cada palabra se repite. \n",
    "#Para ello investigue sobre la utilización del comando “input”. \n",
    "#Aplique su programa en el siguiente caso: “El amor es una locura que ni el cura lo cura porque si el cura lo cura sería una locura del cura”    "
   ]
  },
  {
   "cell_type": "code",
   "execution_count": 4,
   "id": "6fde0297",
   "metadata": {},
   "outputs": [
    {
     "name": "stdout",
     "output_type": "stream",
     "text": [
      "Ingresa una texto :El amor es una locura que ni el cura lo cura porque si el cura lo cura sería una locura del cura\n",
      "El texto ingresado es : El amor es una locura que ni el cura lo cura porque si el cura lo cura sería una locura del cura\n"
     ]
    }
   ],
   "source": [
    "texto_ingresado= input('Ingresa una texto :')\n",
    "print(f'El texto ingresado es : {texto_ingresado}')"
   ]
  },
  {
   "cell_type": "code",
   "execution_count": 5,
   "id": "6701af6b",
   "metadata": {},
   "outputs": [
    {
     "data": {
      "text/plain": [
       "['El',\n",
       " 'amor',\n",
       " 'es',\n",
       " 'una',\n",
       " 'locura',\n",
       " 'que',\n",
       " 'ni',\n",
       " 'el',\n",
       " 'cura',\n",
       " 'lo',\n",
       " 'cura',\n",
       " 'porque',\n",
       " 'si',\n",
       " 'el',\n",
       " 'cura',\n",
       " 'lo',\n",
       " 'cura',\n",
       " 'sería',\n",
       " 'una',\n",
       " 'locura',\n",
       " 'del',\n",
       " 'cura']"
      ]
     },
     "execution_count": 5,
     "metadata": {},
     "output_type": "execute_result"
    }
   ],
   "source": [
    "texto = texto_ingresado.split()\n",
    "texto"
   ]
  },
  {
   "cell_type": "code",
   "execution_count": 6,
   "id": "a1193d7d",
   "metadata": {},
   "outputs": [
    {
     "name": "stdout",
     "output_type": "stream",
     "text": [
      "La palabra \"El\" se repite 1 instancia(s)\"\n",
      "La palabra \"amor\" se repite 1 instancia(s)\"\n",
      "La palabra \"es\" se repite 1 instancia(s)\"\n",
      "La palabra \"una\" se repite 2 instancia(s)\"\n",
      "La palabra \"locura\" se repite 2 instancia(s)\"\n",
      "La palabra \"que\" se repite 1 instancia(s)\"\n",
      "La palabra \"ni\" se repite 1 instancia(s)\"\n",
      "La palabra \"el\" se repite 2 instancia(s)\"\n",
      "La palabra \"cura\" se repite 5 instancia(s)\"\n",
      "La palabra \"lo\" se repite 2 instancia(s)\"\n",
      "La palabra \"porque\" se repite 1 instancia(s)\"\n",
      "La palabra \"si\" se repite 1 instancia(s)\"\n",
      "La palabra \"sería\" se repite 1 instancia(s)\"\n",
      "La palabra \"del\" se repite 1 instancia(s)\"\n"
     ]
    }
   ],
   "source": [
    "frec_palabras = {}\n",
    "for palabra in texto:\n",
    "    if palabra not in frec_palabras:\n",
    "        frec_palabras[palabra] = 1\n",
    "    else:\n",
    "        frec_palabras[palabra] = frec_palabras[palabra] + 1\n",
    "        \n",
    "#imprimir la frecuencia de cada palabra\n",
    "\n",
    "for palabra, frecuencia in frec_palabras.items():\n",
    "    print(f'La palabra \"{palabra}\" se repite {frecuencia} instancia(s)\"')"
   ]
  },
  {
   "cell_type": "code",
   "execution_count": null,
   "id": "5b37737c",
   "metadata": {},
   "outputs": [],
   "source": []
  }
 ],
 "metadata": {
  "kernelspec": {
   "display_name": "Python 3 (ipykernel)",
   "language": "python",
   "name": "python3"
  },
  "language_info": {
   "codemirror_mode": {
    "name": "ipython",
    "version": 3
   },
   "file_extension": ".py",
   "mimetype": "text/x-python",
   "name": "python",
   "nbconvert_exporter": "python",
   "pygments_lexer": "ipython3",
   "version": "3.11.5"
  }
 },
 "nbformat": 4,
 "nbformat_minor": 5
}
